{
 "cells": [
  {
   "cell_type": "code",
   "execution_count": 1,
   "id": "dd57ad40",
   "metadata": {},
   "outputs": [],
   "source": [
    "import random"
   ]
  },
  {
   "cell_type": "code",
   "execution_count": 2,
   "id": "8fec0ef8",
   "metadata": {},
   "outputs": [
    {
     "name": "stdout",
     "output_type": "stream",
     "text": [
      "Guess the number : 4\n",
      "Too high\n",
      "guess again : 3\n",
      "Too high\n",
      "guess again : 1\n",
      "you guessed it right !\n"
     ]
    }
   ],
   "source": [
    "n = random.randrange(1,10)\n",
    "\n",
    "guess = int(input(\"Guess the number : \"))\n",
    "\n",
    "while n!= guess:\n",
    "    if guess<n:\n",
    "        print(\"Too low\")\n",
    "        guess = int(input(\"Guess again : \"))\n",
    "    elif guess>n:\n",
    "        print(\"Too high\")\n",
    "        guess = int(input(\"guess again : \"))\n",
    "    else: \n",
    "        break\n",
    "print(\"you guessed it right !\")"
   ]
  },
  {
   "cell_type": "code",
   "execution_count": null,
   "id": "c86576dd",
   "metadata": {},
   "outputs": [],
   "source": []
  }
 ],
 "metadata": {
  "kernelspec": {
   "display_name": "Python 3 (ipykernel)",
   "language": "python",
   "name": "python3"
  },
  "language_info": {
   "codemirror_mode": {
    "name": "ipython",
    "version": 3
   },
   "file_extension": ".py",
   "mimetype": "text/x-python",
   "name": "python",
   "nbconvert_exporter": "python",
   "pygments_lexer": "ipython3",
   "version": "3.9.12"
  }
 },
 "nbformat": 4,
 "nbformat_minor": 5
}
